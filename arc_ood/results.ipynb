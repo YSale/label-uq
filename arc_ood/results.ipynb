{
 "cells": [
  {
   "cell_type": "code",
   "execution_count": 12,
   "metadata": {},
   "outputs": [
    {
     "name": "stdout",
     "output_type": "stream",
     "text": [
      "The autoreload extension is already loaded. To reload it, use:\n",
      "  %reload_ext autoreload\n"
     ]
    }
   ],
   "source": [
    "import numpy as np\n",
    "import matplotlib.pyplot as plt\n",
    "import os\n",
    "import plot\n",
    "import data\n",
    "import uncertainty as unc\n",
    "\n",
    "plt.rcParams.update({\n",
    "    \"text.usetex\": True,\n",
    "    \"font.family\": \"Serif\",\n",
    "    \"font.size\": 12})\n",
    "import datetime\n",
    "TIME = datetime.datetime.now().strftime(\"%d-%m-%Y_%H:%M:%S\")\n",
    "\n",
    "\n",
    "if not os.path.exists('./results/'):\n",
    "    os.makedirs('./results/')\n",
    "\n",
    "%load_ext autoreload\n",
    "%autoreload 2"
   ]
  },
  {
   "cell_type": "code",
   "execution_count": null,
   "metadata": {},
   "outputs": [],
   "source": [
    "accs = np.load(\"./output/accrej_mnist_variance.npy\")\n",
    "accs_base = np.load(\"./output/accrej_mnist_entropy.npy\")\n",
    "\n",
    "\n",
    "score_names = ['TU_{var}', 'EU_{var}', 'AU_{var}']\n",
    "base_names = ['TU_{ent}', 'EU_{ent}', 'AU_{ent}']\n",
    "plot.accrej_plot([accs, accs_base], [score_names, base_names], save=True, data_str='mnist')\n",
    "\n",
    "unc_frame = data.get_unc_scores('mnist')\n",
    "plot.hist(unc_frame, score = 'TU_var', save=True, data_str='mnist', bins=15)\n",
    "plot.hist(unc_frame, score = 'TU_ent', save=True, data_str='mnist', bins=15)"
   ]
  },
  {
   "cell_type": "code",
   "execution_count": null,
   "metadata": {},
   "outputs": [],
   "source": [
    "accs = np.load(\"./output/accrej_cifar_variance.npy\")\n",
    "accs_base = np.load(\"./output/accrej_cifar_entropy.npy\")\n",
    "plot.accrej_plot([accs, accs_base], [score_names, base_names], save=True, data_str='cifar')\n",
    "\n",
    "unc_frame = data.get_unc_scores('cifar')\n",
    "plot.hist(unc_frame, score = 'TU_var', save=True, data_str='cifar', bins=15)\n",
    "plot.hist(unc_frame, score = 'TU_ent', save=True, data_str='cifar', bins=15)"
   ]
  },
  {
   "cell_type": "code",
   "execution_count": null,
   "metadata": {},
   "outputs": [],
   "source": [
    "accs = np.load(\"./output/accrej_fmnist_variance.npy\")\n",
    "accs_base = np.load(\"./output/accrej_fmnist_entropy.npy\")\n",
    "\n",
    "plot.accrej_plot([accs, accs_base], [score_names, base_names], save=True, data_str='fmnist')\n",
    "\n",
    "unc_frame = data.get_unc_scores('fmnist')\n",
    "plot.hist(unc_frame, score = 'TU_var', save=True, data_str='fmnist', bins=15)\n",
    "plot.hist(unc_frame, score = 'TU_ent', save=True, data_str='fmnist', bins=15)"
   ]
  },
  {
   "cell_type": "code",
   "execution_count": null,
   "metadata": {},
   "outputs": [],
   "source": [
    "accs = np.load(\"./output/accrej_kmnist_variance.npy\")\n",
    "accs_base = np.load(\"./output/accrej_kmnist_entropy.npy\")\n",
    "\n",
    "plot.accrej_plot([accs, accs_base], [score_names, base_names], save=True, data_str='kmnist')\n",
    "\n",
    "unc_frame = data.get_unc_scores('kmnist')\n",
    "plot.hist(unc_frame, score = 'TU_var', save=True, data_str='kmnist', bins=15)\n",
    "plot.hist(unc_frame, score = 'TU_ent', save=True, data_str='kmnist', bins=15)"
   ]
  },
  {
   "cell_type": "code",
   "execution_count": null,
   "metadata": {},
   "outputs": [],
   "source": [
    "accs = np.load(\"./output/accrej_svhn_variance.npy\")\n",
    "accs_base = np.load(\"./output/accrej_svhn_entropy.npy\")\n",
    "\n",
    "plot.accrej_plot([accs, accs_base], [score_names, base_names], save=True, data_str='svhn')\n",
    "\n",
    "unc_frame = data.get_unc_scores('svhn')\n",
    "plot.hist(unc_frame, score = 'TU_var', save=True, data_str='svhn', bins=15)\n",
    "plot.hist(unc_frame, score = 'TU_ent', save=True, data_str='svhn', bins=15)"
   ]
  },
  {
   "cell_type": "code",
   "execution_count": 20,
   "metadata": {},
   "outputs": [],
   "source": [
    "def plots_pairwise_unc(dataset):\n",
    "    accs = np.load(f\"./output/accrej_{dataset}_lent.npy\")\n",
    "    accs_ent = np.load(f\"./output/accrej_{dataset}_entropy.npy\")\n",
    "    accs_var = np.load(f\"./output/accrej_{dataset}_variance.npy\")\n",
    "    score_names = ['TU_{lent}', 'EU_{lent}', 'AU_{lent}'] # changed here the name \n",
    "    ent_names = ['TU_{ent}', 'EU_{ent}', 'AU_{ent}']\n",
    "    var_names = ['TU_{var}', 'EU_{var}', 'AU_{var}']\n",
    "\n",
    "    accs_list = [accs, accs_ent, accs_var]\n",
    "    s_names_list = [score_names, ent_names, var_names]\n",
    "\n",
    "    plot.accrej_plot(accs_list, s_names_list, save=True, data_str=f'{dataset}_lent')\n",
    "    unc_frame = data.get_unc_scores(f'{dataset}', score_functions = [unc.uncertainty_lent, unc.total_uncertainty_entropy, unc.total_uncertainty_variance], score_names = ['TU_lent', 'TU_ent', 'TU_var'])\n",
    "    plot.hist(unc_frame, score = 'TU_lent', save=True, data_str=f'{dataset}_lent', bins=15)\n",
    "    plot.hist(unc_frame, score = 'TU_ent', save=True, data_str=f'{dataset}_lent', bins=15)\n",
    "    plot.hist(unc_frame, score = 'TU_var', save=True, data_str=f'{dataset}_lent', bins=15)"
   ]
  },
  {
   "cell_type": "code",
   "execution_count": null,
   "metadata": {},
   "outputs": [],
   "source": [
    "plots_pairwise_unc('mnist')"
   ]
  },
  {
   "cell_type": "code",
   "execution_count": null,
   "metadata": {},
   "outputs": [],
   "source": [
    "plots_pairwise_unc('fmnist')"
   ]
  },
  {
   "cell_type": "code",
   "execution_count": null,
   "metadata": {},
   "outputs": [],
   "source": [
    "plots_pairwise_unc('kmnist')"
   ]
  },
  {
   "cell_type": "code",
   "execution_count": null,
   "metadata": {},
   "outputs": [],
   "source": [
    "plots_pairwise_unc('svhn')"
   ]
  },
  {
   "cell_type": "code",
   "execution_count": null,
   "metadata": {},
   "outputs": [],
   "source": [
    "plots_pairwise_unc('cifar')"
   ]
  }
 ],
 "metadata": {
  "kernelspec": {
   "display_name": "udecomp",
   "language": "python",
   "name": "python3"
  },
  "language_info": {
   "codemirror_mode": {
    "name": "ipython",
    "version": 3
   },
   "file_extension": ".py",
   "mimetype": "text/x-python",
   "name": "python",
   "nbconvert_exporter": "python",
   "pygments_lexer": "ipython3",
   "version": "3.9.6"
  }
 },
 "nbformat": 4,
 "nbformat_minor": 2
}
